{
 "cells": [
  {
   "cell_type": "code",
   "execution_count": 1,
   "id": "d6f56bc6-3490-4eb7-8eac-d0918698aae3",
   "metadata": {
    "editable": true,
    "slideshow": {
     "slide_type": ""
    },
    "tags": []
   },
   "outputs": [],
   "source": [
    "import os\n",
    "import openai\n",
    "import minsearch\n",
    "from openai import OpenAI"
   ]
  },
  {
   "cell_type": "code",
   "execution_count": 2,
   "id": "bd125ddf-9d90-48ec-b2e5-28fa47b83004",
   "metadata": {},
   "outputs": [],
   "source": [
    "client = OpenAI()"
   ]
  },
  {
   "cell_type": "code",
   "execution_count": 6,
   "id": "061f31ed-2b2f-4bd8-aed5-ac16422cd465",
   "metadata": {},
   "outputs": [],
   "source": [
    "response = client.chat.completions.create(\n",
    "    model=\"gpt-4o\",\n",
    "    messages=[{\"role\":\"user\", \"content\": \"Quand est-ce que je vais commencer mon nouveau boulot ?\"}] )"
   ]
  },
  {
   "cell_type": "code",
   "execution_count": 7,
   "id": "48603a84-ae7a-4479-be99-7a2aa21fb6ef",
   "metadata": {
    "scrolled": true
   },
   "outputs": [
    {
     "data": {
      "text/plain": [
       "\"Je n'ai pas d'informations spécifiques sur votre situation personnelle. Pour connaître la date de début de votre nouveau travail, je vous recommande de vérifier votre contrat ou de contacter votre employeur ou le service des ressources humaines de l'entreprise. Ils seront en mesure de vous fournir les détails exacts concernant votre commencement. Bonne chance dans votre nouveau poste !\""
      ]
     },
     "execution_count": 7,
     "metadata": {},
     "output_type": "execute_result"
    }
   ],
   "source": [
    "response.choices[0].message.content"
   ]
  },
  {
   "cell_type": "code",
   "execution_count": 8,
   "id": "565dbdb2-7b0a-49fb-8ac6-a3f5c9828bc1",
   "metadata": {},
   "outputs": [],
   "source": [
    "import minsearch\n",
    "import json"
   ]
  },
  {
   "cell_type": "code",
   "execution_count": 10,
   "id": "cc4c684b-69f2-4254-a6d2-d37dc6502f17",
   "metadata": {},
   "outputs": [],
   "source": [
    "with open('documents.json', 'rt') as f_in:\n",
    "    docs_raw = json.load(f_in)"
   ]
  },
  {
   "cell_type": "code",
   "execution_count": 11,
   "id": "778815a3-3eb0-4508-88be-88e4303ac389",
   "metadata": {},
   "outputs": [],
   "source": [
    "documents = []\n",
    "\n",
    "for course_dict in docs_raw:\n",
    "    for doc in course_dict['documents']:\n",
    "        doc['course'] = course_dict['course']\n",
    "        documents.append(doc)"
   ]
  },
  {
   "cell_type": "code",
   "execution_count": 18,
   "id": "6da014a8-869b-4c7a-9c11-c0be1de04617",
   "metadata": {},
   "outputs": [],
   "source": [
    "index = minsearch.Index(\n",
    "    text_fields=[\"question\", \"text\", \"section\"],\n",
    "    keyword_fields=[\"course\"]\n",
    ")"
   ]
  },
  {
   "cell_type": "code",
   "execution_count": 21,
   "id": "8a422e84-1572-4943-bf21-4659d0bebf9b",
   "metadata": {},
   "outputs": [],
   "source": [
    "q = 'the course has already started, can I still enroll?'"
   ]
  },
  {
   "cell_type": "code",
   "execution_count": 22,
   "id": "2eba71aa-1e08-4d11-985d-535da306cacb",
   "metadata": {},
   "outputs": [
    {
     "data": {
      "text/plain": [
       "<minsearch.Index at 0x7ac06b9c6380>"
      ]
     },
     "execution_count": 22,
     "metadata": {},
     "output_type": "execute_result"
    }
   ],
   "source": [
    "index.fit(documents)"
   ]
  },
  {
   "cell_type": "code",
   "execution_count": 23,
   "id": "802b13c8-2ba2-4bfe-a94d-3b4b8e7e0142",
   "metadata": {},
   "outputs": [
    {
     "data": {
      "text/plain": [
       "\"If the course has already begun, your ability to enroll may depend on several factors including the institution's policies, the type of course, and the instructor's discretion. Here are a few steps you can take:\\n\\n1. **Check the Institution’s Policy:** Some universities or platforms have specific guidelines about late enrollment. Look up the policy on the official website or student handbook.\\n\\n2. **Contact the Instructor:** Reach out directly to the course instructor. They may allow late enrollment or offer guidance on how to catch up with the material you've missed.\\n\\n3. **Contact the Registrar or Admissions Office:** The administrative office in charge of course enrollments can provide information on whether late enrollment is possible and the necessary steps to take.\\n\\n4. **Consider Online Courses:** Some online learning platforms offer more flexibility with enrollment dates. Check if there are similar courses available online that offer rolling admissions.\\n\\n5. **Assess Catch-Up Work:** Understand the workload and determine if you can realistically catch up on missed lectures, assignments, and readings. Some courses may have a heavy workload that could be challenging to manage if you join late.\\n\\n6. **Look for Next Session:** If late enrollment isn't possible, inquire about when the course will be offered again and plan to enroll in the next session.\\n\\nRemember to act quickly, as the sooner you address this, the better chances you have of finding a suitable solution.\""
      ]
     },
     "execution_count": 23,
     "metadata": {},
     "output_type": "execute_result"
    }
   ],
   "source": [
    "response = client.chat.completions.create(\n",
    "    model='gpt-4o',\n",
    "    messages=[{\"role\": \"user\", \"content\": q}]\n",
    ")\n",
    "\n",
    "response.choices[0].message.content"
   ]
  },
  {
   "cell_type": "code",
   "execution_count": 24,
   "id": "6839919e-de2b-46ae-8b01-39d98935527f",
   "metadata": {},
   "outputs": [],
   "source": [
    "def search(query):\n",
    "    boost = {'question': 3.0, 'section': 0.5}\n",
    "\n",
    "    results = index.search(\n",
    "        query=query,\n",
    "        filter_dict={'course': 'data-engineering-zoomcamp'},\n",
    "        boost_dict=boost,\n",
    "        num_results=5\n",
    "    )\n",
    "\n",
    "    return results"
   ]
  },
  {
   "cell_type": "code",
   "execution_count": 26,
   "id": "92475895-198f-4d99-be59-88e80da66cfe",
   "metadata": {},
   "outputs": [],
   "source": [
    "def build_prompt(query, search_results):\n",
    "    prompt_template = \"\"\"\n",
    "    You're a course teaching assistant. Answer the QUESTION based on the CONTEXT from the FAQ database.\n",
    "    Use only the facts from the CONTEXT when answering the QUESTION.\n",
    "    \n",
    "    QUESTION: {question}\n",
    "    \n",
    "    CONTEXT: \n",
    "    {context}\n",
    "    \"\"\".strip()\n",
    "\n",
    "    context = \"\"\n",
    "    \n",
    "    for doc in search_results:\n",
    "        context = context + f\"section: {doc['section']}\\nquestion: {doc['question']}\\nanswer: {doc['text']}\\n\\n\"\n",
    "    \n",
    "    prompt = prompt_template.format(question=query, context=context).strip()\n",
    "    return prompt"
   ]
  },
  {
   "cell_type": "code",
   "execution_count": 27,
   "id": "1b809ec0-4bda-4e41-8ebc-8dce7128d5a3",
   "metadata": {},
   "outputs": [],
   "source": [
    "def llm(prompt):\n",
    "    response = client.chat.completions.create(\n",
    "        model='gpt-4o',\n",
    "        messages=[{\"role\": \"user\", \"content\": prompt}]\n",
    "    )\n",
    "    \n",
    "    return response.choices[0].message.content"
   ]
  },
  {
   "cell_type": "code",
   "execution_count": 28,
   "id": "a910dba1-58f0-4c80-9e4c-2cdf2025d436",
   "metadata": {},
   "outputs": [],
   "source": [
    "query = 'how do I run kafka?'\n",
    "\n",
    "def rag(query):\n",
    "    search_results = search(query)\n",
    "    prompt = build_prompt(query, search_results)\n",
    "    answer = llm(prompt)\n",
    "    return answer"
   ]
  },
  {
   "cell_type": "code",
   "execution_count": 29,
   "id": "76276556-6a6f-44a8-864d-d0c9b925479d",
   "metadata": {},
   "outputs": [
    {
     "data": {
      "text/plain": [
       "'To run Kafka, follow these steps based on the provided context for Java and Python environments:\\n\\n### For Java:\\n1. Navigate to the project directory.\\n2. Run the following command in the terminal:\\n\\n```bash\\njava -cp build/libs/<jar_name>-1.0-SNAPSHOT.jar:out src/main/java/org/example/JsonProducer.java\\n```\\nReplace `<jar_name>` with the actual name of your jar file.\\n\\n### For Python:\\n1. Create and activate a virtual environment:\\n\\n    ```bash\\n    python -m venv env\\n    source env/bin/activate\\n    ```\\n\\n    For Windows, use:\\n    ```bash\\n    env\\\\Scripts\\\\activate\\n    ```\\n\\n2. Install required packages from `requirements.txt`:\\n\\n    ```bash\\n    pip install -r ../requirements.txt\\n    ```\\n\\n3. Run your Python Kafka scripts within this virtual environment to ensure dependencies are correctly addressed.\\n\\n### If you face permission issues (like `./build.sh: Permission denied` Error):\\nRun this command in the terminal in the directory where your `build.sh` script is located (e.g., `/docker/spark`):\\n\\n```bash\\nchmod +x build.sh\\n```\\n\\nThis command makes the script executable.\\n\\nFollowing these instructions should help you to run Kafka produce/consume processes both in Java and Python environments.'"
      ]
     },
     "execution_count": 29,
     "metadata": {},
     "output_type": "execute_result"
    }
   ],
   "source": [
    "rag(query)"
   ]
  },
  {
   "cell_type": "code",
   "execution_count": 30,
   "id": "f98c02ed-9aea-4919-84c7-11514fbd0fc0",
   "metadata": {},
   "outputs": [
    {
     "data": {
      "text/plain": [
       "\"Yes, you can still enroll in the course even after it has started. You are eligible to submit the homework. However, please keep in mind that there will be deadlines for turning in the final projects, so it's advisable not to leave everything for the last minute.\""
      ]
     },
     "execution_count": 30,
     "metadata": {},
     "output_type": "execute_result"
    }
   ],
   "source": [
    "rag('the course has already started, can I still enroll?')"
   ]
  },
  {
   "cell_type": "code",
   "execution_count": null,
   "id": "f14ed7ae-2267-4d37-b74a-a38986874a05",
   "metadata": {},
   "outputs": [],
   "source": []
  }
 ],
 "metadata": {
  "kernelspec": {
   "display_name": "Python 3 (ipykernel)",
   "language": "python",
   "name": "python3"
  },
  "language_info": {
   "codemirror_mode": {
    "name": "ipython",
    "version": 3
   },
   "file_extension": ".py",
   "mimetype": "text/x-python",
   "name": "python",
   "nbconvert_exporter": "python",
   "pygments_lexer": "ipython3",
   "version": "3.10.13"
  }
 },
 "nbformat": 4,
 "nbformat_minor": 5
}
