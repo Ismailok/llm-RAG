{
 "cells": [
  {
   "cell_type": "code",
   "execution_count": 6,
   "id": "d6f56bc6-3490-4eb7-8eac-d0918698aae3",
   "metadata": {
    "editable": true,
    "slideshow": {
     "slide_type": ""
    },
    "tags": []
   },
   "outputs": [],
   "source": [
    "import os\n",
    "import openai\n",
    "from openai import OpenAI"
   ]
  },
  {
   "cell_type": "code",
   "execution_count": 8,
   "id": "bd125ddf-9d90-48ec-b2e5-28fa47b83004",
   "metadata": {},
   "outputs": [],
   "source": [
    "client = OpenAI()"
   ]
  },
  {
   "cell_type": "code",
   "execution_count": 26,
   "id": "061f31ed-2b2f-4bd8-aed5-ac16422cd465",
   "metadata": {},
   "outputs": [],
   "source": [
    "response = client.chat.completions.create(\n",
    "    model=\"gpt-4o\",\n",
    "    messages=[{\"role\":\"user\", \"content\":\"En tant qu'expert en droit en Licence et de brevet, fais une recherche su bing pour trouver la licence de modèle maskrcnn_resnet50_fpn pytorch licence. Et donne moi le lien de \"}] )"
   ]
  },
  {
   "cell_type": "code",
   "execution_count": 27,
   "id": "48603a84-ae7a-4479-be99-7a2aa21fb6ef",
   "metadata": {},
   "outputs": [
    {
     "data": {
      "text/plain": [
       "'Je ne peux pas effectuer des recherches en ligne en temps réel, mais je peux vous fournir des informations sur la licence associée au modèle Mask R-CNN avec ResNet-50 et FPN implémenté en PyTorch.\\n\\nLe modèle Mask R-CNN fourni par PyTorch fait typiquement partie de la bibliothèque `torchvision`, qui est une bibliothèque de vision par ordinateur développée par les créateurs de PyTorch. `torchvision` inclut des modèles pré-entraînés qui peuvent être facilement intégrés dans les projets utilisant PyTorch.\\n\\nLa bibliothèque `torchvision` est distribuée sous la licence BSD 3-Clause. Voici une brève explication et les termes généraux de cette licence :\\n\\n- **Licence BSD 3-Clause (\"New\" or \"Revised\")** : Cette licence est reconnaissable par ses trois clauses et est moins restrictive que certaines autres licences open source. Elle permet une redistribution et l\\'utilisation en source et en binaire, avec ou sans modification, tant que les conditions suivantes sont respectées :\\n  1. La redistribution du code source doit conserver les avis de copyright d\\'origine, cette liste de conditions et la clause de non-responsabilité suivante.\\n  2. La redistribution sous forme binaire doit reproduire les avis de copyright ci-dessus et cette liste de conditions et la clause de non-responsabilité suivante dans la documentation et/ou d\\'autres matériaux fournis avec la distribution.\\n  3. Ni le nom du titulaire du droit d’auteur ni les noms de ses contributeurs ne peuvent être utilisés pour approuver ou promouvoir les produits dérivés de ce logiciel sans autorisation écrite spécifique préalable.\\n\\n**Clause de non-responsabilité** :\\n\"CE LOGICIEL EST FOURNI PAR LES TITULAIRES DU COPYRIGHT ET LES CONTRIBUTEURS « TEL QUEL » ET TOUTE GARANTIE EXPRESSE OU IMPLICITE, Y COMPRIS, MAIS SANS S’Y LIMITER, LES GARANTIES IMPLICITES DE VALEUR MARCHANDE ET D’ADÉQUATION À UN USAGE PARTICULIER SONT DÉCLINÉES. EN AUCUN CAS, LES TITULAIRES DU COPYRIGHT OU LES CONTRIBUTAIRES NE SERONT RESPONSABLES DE TOUT DOMMAGE DIRECT, INDIRECT, INCIDENT, SPÉCIAL, EXEMPLAIRE OU CONSÉCUTIF (Y COMPRIS, MAIS SANS S’Y LIMITER, LES FOURNITURES DE BIENS OU SERVICES DE SUBSTITUTION ; LA PERTE D’UTILISATION, DE DONNÉES OU DE PROFITS OU LES INTERRUPTIONS D\\'ACTIVITÉ COMMERCIALE) CAUSER DE TOUTE MANIÈRE ET SUR TOUTE THÉORIE DE RESPONSABILITÉ, QUE CE SOIT EN CONTRAT, EN RESPONSABILITÉ STRICTE OU EN TORT (Y COMPRIS LA NÉGLIGENCE OU AUTRE) DÉCOULANT DE TOUTE MANIÈRE DE L’UTILISATION DE CE LOGICIEL, MÊME SI AVISÉ DE LA POSSIBILITÉ DE TELS DOMMAGES.\"\\n\\nPour vérifier la licence spécifique du modèle `maskrcnn_resnet50_fpn` dans PyTorch, je vous recommande de consulter le dépôt officiel de `torchvision` sur GitHub : [https://github.com/pytorch/vision](https://github.com/pytorch/vision). La licence y sera mentionnée dans le fichier LICENSE à la racine du dépôt.\\n\\nAssurez-vous également de lire les documents et les entêtes de fichier du projet spécifique que vous utilisez pour toute information supplémentaire concernant la licence.'"
      ]
     },
     "execution_count": 27,
     "metadata": {},
     "output_type": "execute_result"
    }
   ],
   "source": [
    "response.choices[0].message.content"
   ]
  },
  {
   "cell_type": "code",
   "execution_count": null,
   "id": "ba857fca-d0c1-4350-b8b4-f36be9bfe431",
   "metadata": {},
   "outputs": [],
   "source": []
  },
  {
   "cell_type": "code",
   "execution_count": null,
   "id": "565dbdb2-7b0a-49fb-8ac6-a3f5c9828bc1",
   "metadata": {},
   "outputs": [],
   "source": []
  }
 ],
 "metadata": {
  "kernelspec": {
   "display_name": "Python 3 (ipykernel)",
   "language": "python",
   "name": "python3"
  },
  "language_info": {
   "codemirror_mode": {
    "name": "ipython",
    "version": 3
   },
   "file_extension": ".py",
   "mimetype": "text/x-python",
   "name": "python",
   "nbconvert_exporter": "python",
   "pygments_lexer": "ipython3",
   "version": "3.10.13"
  }
 },
 "nbformat": 4,
 "nbformat_minor": 5
}
