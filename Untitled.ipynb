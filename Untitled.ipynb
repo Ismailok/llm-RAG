{
 "cells": [
  {
   "cell_type": "code",
   "execution_count": 6,
   "id": "d6f56bc6-3490-4eb7-8eac-d0918698aae3",
   "metadata": {
    "editable": true,
    "slideshow": {
     "slide_type": ""
    },
    "tags": []
   },
   "outputs": [],
   "source": [
    "import os\n",
    "import openai\n",
    "from openai import OpenAI"
   ]
  },
  {
   "cell_type": "code",
   "execution_count": 8,
   "id": "bd125ddf-9d90-48ec-b2e5-28fa47b83004",
   "metadata": {},
   "outputs": [],
   "source": [
    "client = OpenAI()"
   ]
  },
  {
   "cell_type": "code",
   "execution_count": 24,
   "id": "061f31ed-2b2f-4bd8-aed5-ac16422cd465",
   "metadata": {},
   "outputs": [],
   "source": [
    "response = client.chat.completions.create(\n",
    "    model=\"gpt-4o\",\n",
    "    messages=[{\"role\":\"user\", \"content\":\"Est-ce que je serai en retard en rentrant cet apres midi\"}] )"
   ]
  },
  {
   "cell_type": "code",
   "execution_count": 25,
   "id": "48603a84-ae7a-4479-be99-7a2aa21fb6ef",
   "metadata": {},
   "outputs": [
    {
     "data": {
      "text/plain": [
       "ChatCompletionMessage(content=\"Je suis désolé, mais je ne peux pas prédire l'avenir ou fournir des informations en temps réel sur vos déplacements. Cependant, si vous souhaitez éviter d'être en retard, il peut être utile de vérifier les conditions de circulation, les horaires des transports en commun, et de prévoir suffisamment de temps pour les imprévus. Si vous avez accès à un smartphone, vous pouvez utiliser des applications de navigation comme Google Maps ou Waze pour suivre les conditions de circulation en temps réel et estimer votre temps de trajet.\", role='assistant', function_call=None, tool_calls=None)"
      ]
     },
     "execution_count": 25,
     "metadata": {},
     "output_type": "execute_result"
    }
   ],
   "source": [
    "response.choices[0].message"
   ]
  },
  {
   "cell_type": "code",
   "execution_count": null,
   "id": "ba857fca-d0c1-4350-b8b4-f36be9bfe431",
   "metadata": {},
   "outputs": [],
   "source": []
  }
 ],
 "metadata": {
  "kernelspec": {
   "display_name": "Python 3 (ipykernel)",
   "language": "python",
   "name": "python3"
  },
  "language_info": {
   "codemirror_mode": {
    "name": "ipython",
    "version": 3
   },
   "file_extension": ".py",
   "mimetype": "text/x-python",
   "name": "python",
   "nbconvert_exporter": "python",
   "pygments_lexer": "ipython3",
   "version": "3.10.13"
  }
 },
 "nbformat": 4,
 "nbformat_minor": 5
}
